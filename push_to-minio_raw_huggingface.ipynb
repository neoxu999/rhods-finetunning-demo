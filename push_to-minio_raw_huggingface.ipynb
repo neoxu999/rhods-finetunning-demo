{
 "cells": [
  {
   "cell_type": "code",
   "execution_count": 4,
   "id": "51024fe9-9e5e-4d80-8790-a5a4f3a80735",
   "metadata": {
    "tags": []
   },
   "outputs": [],
   "source": [
    "import os\n",
    "import boto3"
   ]
  },
  {
   "cell_type": "code",
   "execution_count": 5,
   "id": "f89ec490-f1c9-4f7a-a2a7-0244c988bb27",
   "metadata": {
    "tags": []
   },
   "outputs": [],
   "source": [
    "key_id = \"minio\"\n",
    "secret_key = \"minio123\"\n",
    "endpoint = \"https://minio-api-minio.apps.rosa-s85n8.p9o9.p1.openshiftapps.com\"\n",
    "bucket_name = \"models\"\n",
    "source_subfolder = \"Llama-2-7b-chat-hf-sharded-bf16-fine-tuned/\"\n",
    "target_subfolder = \"llm-raw-huggingface/\""
   ]
  },
  {
   "cell_type": "code",
   "execution_count": 6,
   "id": "46070831-9839-4e82-b0ce-5738f133a9d7",
   "metadata": {
    "tags": []
   },
   "outputs": [],
   "source": [
    "s3 = boto3.client(\n",
    "   \"s3\",\n",
    "   aws_access_key_id=key_id,\n",
    "   aws_secret_access_key=secret_key,\n",
    "   endpoint_url=endpoint,\n",
    "   use_ssl=True)"
   ]
  },
  {
   "cell_type": "code",
   "execution_count": 7,
   "id": "89383bf0-5253-4538-a032-2d9724c851f3",
   "metadata": {
    "tags": []
   },
   "outputs": [
    {
     "name": "stdout",
     "output_type": "stream",
     "text": [
      ".gitattributes\n",
      "config.json\n",
      "pytorch_model-00001-of-00003.bin\n",
      "tokenizer_config.json\n",
      "pytorch_model-00003-of-00003.bin\n",
      "special_tokens_map.json\n",
      "pytorch_model.bin.index.json\n",
      "pytorch_model-00002-of-00003.bin\n",
      "tokenizer.json\n",
      "generation_config.json\n"
     ]
    }
   ],
   "source": [
    "\n",
    "# use this to print the contens of your directory\n",
    "\n",
    "import os\n",
    "# print(\"Python Program to print list the files in a directory.\")\n",
    "# Direc = input(r\"Enter the path of the folder: \")\n",
    "\n",
    "Direc = \"./Llama-2-7b-chat-hf-sharded-bf16-fine-tuned\"\n",
    "# Direc = \".\"\n",
    "\n",
    "# print(f\"Files in the directory: {Direc}\")\n",
    "files = os.listdir(Direc)\n",
    "# Filtering only the files.\n",
    "files = [f for f in files if os.path.isfile(Direc+'/'+f)]\n",
    "# print(*files, sep=\"\\n\")\n",
    "\n",
    "    \n",
    "for x in files:\n",
    "  print(x)    \n"
   ]
  },
  {
   "cell_type": "code",
   "execution_count": 8,
   "id": "f49c0303-f772-474a-96f5-4e364fcf373f",
   "metadata": {
    "tags": []
   },
   "outputs": [],
   "source": [
    "# source_path = \"config.json\"\n",
    "# s3_destination_path = \"config.json\"\n",
    "# s3.upload_file(source_path, bucket_name, s3_destination_path)\n",
    "\n",
    "\n",
    "# dir=\"Llama-2-7b-chat-hf-sharded-bf16-fine-tuned\"\n",
    "# s3.upload_file(dir, bucket_name, dir)\n",
    "\n",
    "\n",
    "# for file in files:\n",
    "#   filename=\"./Llama-2-7b-chat-hf-sharded-bf16-fine-tuned/\"+str(file)\n",
    "#   print (filename)\n",
    "#   s3.upload_file(filename, bucket_name, filename)\n",
    "\n",
    "# fails\n",
    "# for file in files:\n",
    "#   filename=\"Llama-2-7b-chat-hf-sharded-bf16-fine-tuned//\"+str(file)\n",
    "#   print (filename)\n",
    "#   s3.upload_file(filename, bucket_name, filename)\n",
    "\n",
    "\n",
    "\n",
    "# filename=\"pytorch_model-00002-of-00003.bin\"\n",
    "# s3.upload_file(filename, bucket_name, filename)"
   ]
  },
  {
   "cell_type": "code",
   "execution_count": null,
   "id": "eeb1fdb7-d481-41bf-9b95-2dff8a431d59",
   "metadata": {
    "tags": []
   },
   "outputs": [
    {
     "name": "stdout",
     "output_type": "stream",
     "text": [
      ".gitattributes\n",
      "config.json\n",
      "pytorch_model-00001-of-00003.bin\n",
      "tokenizer_config.json\n",
      "pytorch_model-00003-of-00003.bin\n",
      "special_tokens_map.json\n",
      "pytorch_model.bin.index.json\n",
      "pytorch_model-00002-of-00003.bin\n"
     ]
    }
   ],
   "source": [
    "for filename in files:\n",
    "  print(filename)\n",
    "  s3.upload_file(source_subfolder+filename, bucket_name, target_subfolder+filename)"
   ]
  },
  {
   "cell_type": "code",
   "execution_count": null,
   "id": "42d36671-6a8e-4bfa-8e87-faa5e76b959b",
   "metadata": {
    "tags": []
   },
   "outputs": [],
   "source": [
    "print(\"Done\")"
   ]
  }
 ],
 "metadata": {
  "kernelspec": {
   "display_name": "Python 3.9",
   "language": "python",
   "name": "python3"
  },
  "language_info": {
   "codemirror_mode": {
    "name": "ipython",
    "version": 3
   },
   "file_extension": ".py",
   "mimetype": "text/x-python",
   "name": "python",
   "nbconvert_exporter": "python",
   "pygments_lexer": "ipython3",
   "version": "3.9.18"
  }
 },
 "nbformat": 4,
 "nbformat_minor": 5
}
