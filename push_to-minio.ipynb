{
 "cells": [
  {
   "cell_type": "code",
   "execution_count": 2,
   "id": "51024fe9-9e5e-4d80-8790-a5a4f3a80735",
   "metadata": {
    "tags": []
   },
   "outputs": [],
   "source": [
    "import os\n",
    "import boto3"
   ]
  },
  {
   "cell_type": "code",
   "execution_count": null,
   "id": "d459f39c-fa8a-4a8d-a2cf-4d26536b5676",
   "metadata": {
    "tags": []
   },
   "outputs": [],
   "source": []
  },
  {
   "cell_type": "code",
   "execution_count": 3,
   "id": "f89ec490-f1c9-4f7a-a2a7-0244c988bb27",
   "metadata": {
    "tags": []
   },
   "outputs": [],
   "source": [
    "key_id = \"minio\"\n",
    "secret_key = \"minio123\"\n",
    "endpoint = \"https://minio-api-minio.apps.rosa-2n84n.8u8m.p1.openshiftapps.com/\"\n",
    "bucket_name = \"models\"\n",
    "source_subfolder = \"Llama-2-7b-chat-hf-sharded-bf16-fine-tuned/\"\n",
    "target_subfolder = \"llm2/\""
   ]
  },
  {
   "cell_type": "code",
   "execution_count": 4,
   "id": "46070831-9839-4e82-b0ce-5738f133a9d7",
   "metadata": {
    "tags": []
   },
   "outputs": [],
   "source": [
    "s3 = boto3.client(\n",
    "   \"s3\",\n",
    "   aws_access_key_id=key_id,\n",
    "   aws_secret_access_key=secret_key,\n",
    "   endpoint_url=endpoint,\n",
    "   use_ssl=True)"
   ]
  },
  {
   "cell_type": "code",
   "execution_count": 6,
   "id": "89383bf0-5253-4538-a032-2d9724c851f3",
   "metadata": {
    "tags": []
   },
   "outputs": [
    {
     "name": "stdout",
     "output_type": "stream",
     "text": [
      "pytorch_model-00002-of-00003.bin\n",
      "generation_config.json\n",
      "config.json\n",
      "tokenizer_config.json\n",
      ".gitattributes\n",
      "special_tokens_map.json\n",
      "pytorch_model-00001-of-00003.bin\n",
      "tokenizer.json\n",
      "pytorch_model.bin.index.json\n",
      "pytorch_model-00003-of-00003.bin\n"
     ]
    }
   ],
   "source": [
    "\n",
    "# use this to print the contens of your directory\n",
    "\n",
    "import os\n",
    "# print(\"Python Program to print list the files in a directory.\")\n",
    "# Direc = input(r\"Enter the path of the folder: \")\n",
    "\n",
    "Direc = \"./Llama-2-7b-chat-hf-sharded-bf16-fine-tuned\"\n",
    "# Direc = \".\"\n",
    "\n",
    "# print(f\"Files in the directory: {Direc}\")\n",
    "files = os.listdir(Direc)\n",
    "# Filtering only the files.\n",
    "files = [f for f in files if os.path.isfile(Direc+'/'+f)]\n",
    "# print(*files, sep=\"\\n\")\n",
    "\n",
    "    \n",
    "for x in files:\n",
    "  print(x)    \n"
   ]
  },
  {
   "cell_type": "code",
   "execution_count": 7,
   "id": "f49c0303-f772-474a-96f5-4e364fcf373f",
   "metadata": {
    "tags": []
   },
   "outputs": [],
   "source": [
    "# source_path = \"config.json\"\n",
    "# s3_destination_path = \"config.json\"\n",
    "# s3.upload_file(source_path, bucket_name, s3_destination_path)\n",
    "\n",
    "\n",
    "# dir=\"Llama-2-7b-chat-hf-sharded-bf16-fine-tuned\"\n",
    "# s3.upload_file(dir, bucket_name, dir)\n",
    "\n",
    "\n",
    "# for file in files:\n",
    "#   filename=\"./Llama-2-7b-chat-hf-sharded-bf16-fine-tuned/\"+str(file)\n",
    "#   print (filename)\n",
    "#   s3.upload_file(filename, bucket_name, filename)\n",
    "\n",
    "# fails\n",
    "# for file in files:\n",
    "#   filename=\"Llama-2-7b-chat-hf-sharded-bf16-fine-tuned//\"+str(file)\n",
    "#   print (filename)\n",
    "#   s3.upload_file(filename, bucket_name, filename)\n",
    "\n",
    "\n",
    "\n",
    "# filename=\"pytorch_model-00002-of-00003.bin\"\n",
    "# s3.upload_file(filename, bucket_name, filename)"
   ]
  },
  {
   "cell_type": "code",
   "execution_count": 9,
   "id": "eeb1fdb7-d481-41bf-9b95-2dff8a431d59",
   "metadata": {
    "tags": []
   },
   "outputs": [
    {
     "name": "stdout",
     "output_type": "stream",
     "text": [
      "pytorch_model-00002-of-00003.bin\n",
      "generation_config.json\n",
      "config.json\n",
      "tokenizer_config.json\n",
      ".gitattributes\n",
      "special_tokens_map.json\n",
      "pytorch_model-00001-of-00003.bin\n",
      "tokenizer.json\n",
      "pytorch_model.bin.index.json\n",
      "pytorch_model-00003-of-00003.bin\n"
     ]
    }
   ],
   "source": [
    "for filename in files:\n",
    "  print(filename)\n",
    "  s3.upload_file(source_subfolder+filename, bucket_name, target_subfolder+filename)"
   ]
  },
  {
   "cell_type": "code",
   "execution_count": null,
   "id": "42d36671-6a8e-4bfa-8e87-faa5e76b959b",
   "metadata": {
    "tags": []
   },
   "outputs": [],
   "source": [
    "# filename=\"config.json\"\n",
    "# s3.upload_file(filename, bucket_name, filename)"
   ]
  },
  {
   "cell_type": "code",
   "execution_count": null,
   "id": "1d140186-7d6c-45d1-a6bb-b6f77d42fd33",
   "metadata": {
    "tags": []
   },
   "outputs": [],
   "source": [
    "# filename=\"generation_config.json\"\n",
    "# s3.upload_file(filename, bucket_name, filename)"
   ]
  },
  {
   "cell_type": "code",
   "execution_count": null,
   "id": "fb17f412-d078-4ce6-84e9-047fdd9510df",
   "metadata": {
    "tags": []
   },
   "outputs": [],
   "source": [
    "# filename=\"pytorch_model-00001-of-00003.bin\"\n",
    "# s3.upload_file(filename, bucket_name, filename)"
   ]
  },
  {
   "cell_type": "code",
   "execution_count": null,
   "id": "57101734-6b46-4cb3-8a2b-3d560745efdf",
   "metadata": {
    "tags": []
   },
   "outputs": [],
   "source": [
    "# filename=\"pytorch_model-00002-of-00003.bin\"\n",
    "# s3.upload_file(filename, bucket_name, filename)"
   ]
  },
  {
   "cell_type": "code",
   "execution_count": null,
   "id": "a93bea3f-da14-49c4-88e1-b3b1c5819d45",
   "metadata": {
    "tags": []
   },
   "outputs": [],
   "source": [
    "# filename=\"pytorch_model-00003-of-00003.bin\"\n",
    "# s3.upload_file(filename, bucket_name, filename)"
   ]
  },
  {
   "cell_type": "code",
   "execution_count": null,
   "id": "8ccca1ff-8625-460f-a520-86e3b5159c95",
   "metadata": {
    "tags": []
   },
   "outputs": [],
   "source": [
    "# filename=\"pytorch_model.bin.index.json\"\n",
    "# s3.upload_file(filename, bucket_name, filename)"
   ]
  },
  {
   "cell_type": "code",
   "execution_count": null,
   "id": "a5a1fe2f-51fa-46c8-bf28-527addee6f56",
   "metadata": {
    "tags": []
   },
   "outputs": [],
   "source": [
    "# filename=\"special_tokens_map.json\"\n",
    "# s3.upload_file(filename, bucket_name, filename)"
   ]
  },
  {
   "cell_type": "code",
   "execution_count": null,
   "id": "d0a71857-fd7e-4fe5-a48f-b29bc178540e",
   "metadata": {
    "tags": []
   },
   "outputs": [],
   "source": [
    "# filename=\"tokenizer.json\"\n",
    "# s3.upload_file(filename, bucket_name, filename)"
   ]
  },
  {
   "cell_type": "code",
   "execution_count": null,
   "id": "3c94be87-6346-422a-bcf1-9c1a37dd8ebf",
   "metadata": {
    "tags": []
   },
   "outputs": [],
   "source": [
    "# filename=\"tokenizer_config.json\"\n",
    "# s3.upload_file(filename, bucket_name, filename)"
   ]
  },
  {
   "cell_type": "code",
   "execution_count": null,
   "id": "82a6a3bf-8504-4239-b638-aabccfb02b45",
   "metadata": {
    "tags": []
   },
   "outputs": [],
   "source": [
    "# for file in files:\n",
    "#   s3.upload_file(str(file), bucket_name, str(file))"
   ]
  },
  {
   "cell_type": "code",
   "execution_count": null,
   "id": "8a70f570-3f8c-425c-8b75-60f301ce70a7",
   "metadata": {},
   "outputs": [],
   "source": [
    "print (\"Done\")"
   ]
  }
 ],
 "metadata": {
  "kernelspec": {
   "display_name": "Python 3.9",
   "language": "python",
   "name": "python3"
  },
  "language_info": {
   "codemirror_mode": {
    "name": "ipython",
    "version": 3
   },
   "file_extension": ".py",
   "mimetype": "text/x-python",
   "name": "python",
   "nbconvert_exporter": "python",
   "pygments_lexer": "ipython3",
   "version": "3.9.18"
  }
 },
 "nbformat": 4,
 "nbformat_minor": 5
}
