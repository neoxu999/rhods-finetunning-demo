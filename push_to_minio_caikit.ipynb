{
 "cells": [
  {
   "cell_type": "code",
   "execution_count": 1,
   "id": "79714be6-696a-4e62-8c99-ae9bc2ef451a",
   "metadata": {
    "tags": []
   },
   "outputs": [],
   "source": [
    "import os\n",
    "import boto3"
   ]
  },
  {
   "cell_type": "code",
   "execution_count": 2,
   "id": "37789ea0-8729-4bf5-8ae5-e976fddfc800",
   "metadata": {
    "tags": []
   },
   "outputs": [
    {
     "name": "stdout",
     "output_type": "stream",
     "text": [
      "mino\n",
      "minio123\n",
      "none\n",
      "https://minio-api-minio.apps.cluster-f8vwx.sandbox114.opentlc.com\n",
      "models\n"
     ]
    }
   ],
   "source": [
    "key_id = os.getenv(\"AWS_ACCESS_KEY_ID\")\n",
    "secret_key = os.getenv(\"AWS_SECRET_ACCESS_KEY\")\n",
    "region = os.getenv(\"AWS_DEFAULT_REGION\")\n",
    "endpoint = os.getenv(\"AWS_S3_ENDPOINT\")\n",
    "bucket_name = os.getenv(\"AWS_S3_BUCKET\")\n",
    "\n",
    "print (key_id)\n",
    "print (secret_key)\n",
    "print (region)\n",
    "print (endpoint)\n",
    "print (bucket_name)\n"
   ]
  },
  {
   "cell_type": "code",
   "execution_count": null,
   "id": "f89ec490-f1c9-4f7a-a2a7-0244c988bb27",
   "metadata": {
    "tags": []
   },
   "outputs": [],
   "source": [
    "# Uncomment the next 2 lines if you want to use the LLM model we fine tuned previously in ./llamafinetune_demo.ipynb\n",
    "source_subfolder = \"Llama-2-7b-chat-hf-sharded-bf16-fine-tuned-caikit/\"\n",
    "target_subfolder = \"llm-caikit/\"\n",
    "\n",
    "# Uncomment the next 2 lines if you want to use the unmodified (not fine-tuned) Llama-2-7b model we downloaded in llamainfer_demo_caikit.ipynb\n",
    "# source_subfolder = \"Llama-2-7b-chat-hf-sharded-bf16-caikit/\"\n",
    "# target_subfolder = \"llm-trelis-llama-2-7b-caikit/\"\n",
    "\n"
   ]
  },
  {
   "cell_type": "code",
   "execution_count": null,
   "id": "46070831-9839-4e82-b0ce-5738f133a9d7",
   "metadata": {
    "tags": []
   },
   "outputs": [],
   "source": [
    "s3 = boto3.client(\n",
    "   \"s3\",\n",
    "   aws_access_key_id=key_id,\n",
    "   aws_secret_access_key=secret_key,\n",
    "   endpoint_url=endpoint,\n",
    "   use_ssl=True)"
   ]
  },
  {
   "cell_type": "code",
   "execution_count": null,
   "id": "89383bf0-5253-4538-a032-2d9724c851f3",
   "metadata": {
    "tags": []
   },
   "outputs": [],
   "source": [
    "import os\n",
    "\n",
    "\n",
    "Direc = source_subfolder\n",
    "# Direc = \".\"\n",
    "\n",
    "files = os.listdir(Direc)\n",
    "\n",
    "files = [f for f in files if os.path.isfile(Direc+'/'+f)]\n",
    "\n",
    "    \n",
    "for x in files:\n",
    "  print(x)    \n"
   ]
  },
  {
   "cell_type": "code",
   "execution_count": null,
   "id": "eeb1fdb7-d481-41bf-9b95-2dff8a431d59",
   "metadata": {
    "tags": []
   },
   "outputs": [],
   "source": [
    "for filename in files:\n",
    "  print(filename)\n",
    "  s3.upload_file(source_subfolder+filename, bucket_name, target_subfolder+filename)"
   ]
  },
  {
   "cell_type": "code",
   "execution_count": null,
   "id": "4ae7aba9-6f6a-4522-85fb-a6ef907b2dfc",
   "metadata": {},
   "outputs": [],
   "source": [
    "import os\n",
    "\n",
    "\n",
    "Direc = source_subfolder+\"/artifacts\"\n",
    "# Direc = \".\"\n",
    "\n",
    "files = os.listdir(Direc)\n",
    "\n",
    "files = [f for f in files if os.path.isfile(Direc+'/'+f)]\n",
    "\n",
    "\n",
    "    \n",
    "for x in files:\n",
    "  print(x)  "
   ]
  },
  {
   "cell_type": "code",
   "execution_count": null,
   "id": "1a5e7f49-d4e4-4468-8cd8-6c8b431a42a9",
   "metadata": {},
   "outputs": [],
   "source": [
    "target_subfolder=target_subfolder+\"artifacts/\"\n",
    "\n",
    "for filename in files:\n",
    "  # print(\"-----\")\n",
    "  print(filename)\n",
    "  # print(Direc+\"/\"+filename)\n",
    "  # print(bucket_name)\n",
    "  # print(target_subfolder+filename)\n",
    "  s3.upload_file(Direc+\"/\"+filename, bucket_name, target_subfolder+filename)"
   ]
  },
  {
   "cell_type": "code",
   "execution_count": null,
   "id": "8b864097-9acf-4a39-b198-ea7b9aebe2bd",
   "metadata": {},
   "outputs": [],
   "source": [
    "print (\"Done\")"
   ]
  }
 ],
 "metadata": {
  "kernelspec": {
   "display_name": "Python 3.9",
   "language": "python",
   "name": "python3"
  },
  "language_info": {
   "codemirror_mode": {
    "name": "ipython",
    "version": 3
   },
   "file_extension": ".py",
   "mimetype": "text/x-python",
   "name": "python",
   "nbconvert_exporter": "python",
   "pygments_lexer": "ipython3",
   "version": "3.9.18"
  }
 },
 "nbformat": 4,
 "nbformat_minor": 5
}
