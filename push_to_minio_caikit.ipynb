{
 "cells": [
  {
   "cell_type": "code",
   "execution_count": 23,
   "id": "51024fe9-9e5e-4d80-8790-a5a4f3a80735",
   "metadata": {
    "tags": []
   },
   "outputs": [],
   "source": [
    "import os\n",
    "import boto3"
   ]
  },
  {
   "cell_type": "code",
   "execution_count": 24,
   "id": "f89ec490-f1c9-4f7a-a2a7-0244c988bb27",
   "metadata": {
    "tags": []
   },
   "outputs": [],
   "source": [
    "key_id = \"minio\"\n",
    "secret_key = \"minio123\"\n",
    "endpoint = \"https://minio-api-minio.apps.rosa-s85n8.p9o9.p1.openshiftapps.com/\"\n",
    "bucket_name = \"models\"\n",
    "source_subfolder = \"Llama-2-7b-chat-hf-sharded-bf16-fine-tuned-caikit/\"\n",
    "target_subfolder = \"llm-caikit/\""
   ]
  },
  {
   "cell_type": "code",
   "execution_count": 25,
   "id": "46070831-9839-4e82-b0ce-5738f133a9d7",
   "metadata": {
    "tags": []
   },
   "outputs": [],
   "source": [
    "s3 = boto3.client(\n",
    "   \"s3\",\n",
    "   aws_access_key_id=key_id,\n",
    "   aws_secret_access_key=secret_key,\n",
    "   endpoint_url=endpoint,\n",
    "   use_ssl=True)"
   ]
  },
  {
   "cell_type": "code",
   "execution_count": 26,
   "id": "89383bf0-5253-4538-a032-2d9724c851f3",
   "metadata": {
    "tags": []
   },
   "outputs": [
    {
     "name": "stdout",
     "output_type": "stream",
     "text": [
      "config.yml\n"
     ]
    }
   ],
   "source": [
    "import os\n",
    "\n",
    "\n",
    "Direc = \"./Llama-2-7b-chat-hf-sharded-bf16-fine-tuned-caikit\"\n",
    "# Direc = \".\"\n",
    "\n",
    "files = os.listdir(Direc)\n",
    "\n",
    "files = [f for f in files if os.path.isfile(Direc+'/'+f)]\n",
    "\n",
    "\n",
    "    \n",
    "for x in files:\n",
    "  print(x)    \n"
   ]
  },
  {
   "cell_type": "code",
   "execution_count": 27,
   "id": "eeb1fdb7-d481-41bf-9b95-2dff8a431d59",
   "metadata": {
    "tags": []
   },
   "outputs": [
    {
     "name": "stdout",
     "output_type": "stream",
     "text": [
      "config.yml\n"
     ]
    }
   ],
   "source": [
    "for filename in files:\n",
    "  print(filename)\n",
    "  s3.upload_file(source_subfolder+filename, bucket_name, target_subfolder+filename)"
   ]
  },
  {
   "cell_type": "code",
   "execution_count": 28,
   "id": "4ae7aba9-6f6a-4522-85fb-a6ef907b2dfc",
   "metadata": {},
   "outputs": [
    {
     "name": "stdout",
     "output_type": "stream",
     "text": [
      "config.json\n",
      "tokenizer_config.json\n",
      "model.safetensors.index.json\n",
      "special_tokens_map.json\n",
      "model-00003-of-00006.safetensors\n",
      "model-00004-of-00006.safetensors\n",
      "model-00006-of-00006.safetensors\n",
      "tokenizer.json\n",
      "model-00005-of-00006.safetensors\n",
      "model-00002-of-00006.safetensors\n",
      "model-00001-of-00006.safetensors\n",
      "generation_config.json\n"
     ]
    }
   ],
   "source": [
    "import os\n",
    "\n",
    "\n",
    "Direc = \"./Llama-2-7b-chat-hf-sharded-bf16-fine-tuned-caikit/artifacts\"\n",
    "# Direc = \".\"\n",
    "\n",
    "files = os.listdir(Direc)\n",
    "\n",
    "files = [f for f in files if os.path.isfile(Direc+'/'+f)]\n",
    "\n",
    "\n",
    "    \n",
    "for x in files:\n",
    "  print(x)  "
   ]
  },
  {
   "cell_type": "code",
   "execution_count": 29,
   "id": "1a5e7f49-d4e4-4468-8cd8-6c8b431a42a9",
   "metadata": {},
   "outputs": [
    {
     "name": "stdout",
     "output_type": "stream",
     "text": [
      "-----\n",
      "config.json\n",
      "./Llama-2-7b-chat-hf-sharded-bf16-fine-tuned-caikit/artifacts/config.json\n",
      "models\n",
      "llm-caikit/artifacts/config.json\n",
      "-----\n",
      "tokenizer_config.json\n",
      "./Llama-2-7b-chat-hf-sharded-bf16-fine-tuned-caikit/artifacts/tokenizer_config.json\n",
      "models\n",
      "llm-caikit/artifacts/tokenizer_config.json\n",
      "-----\n",
      "model.safetensors.index.json\n",
      "./Llama-2-7b-chat-hf-sharded-bf16-fine-tuned-caikit/artifacts/model.safetensors.index.json\n",
      "models\n",
      "llm-caikit/artifacts/model.safetensors.index.json\n",
      "-----\n",
      "special_tokens_map.json\n",
      "./Llama-2-7b-chat-hf-sharded-bf16-fine-tuned-caikit/artifacts/special_tokens_map.json\n",
      "models\n",
      "llm-caikit/artifacts/special_tokens_map.json\n",
      "-----\n",
      "model-00003-of-00006.safetensors\n",
      "./Llama-2-7b-chat-hf-sharded-bf16-fine-tuned-caikit/artifacts/model-00003-of-00006.safetensors\n",
      "models\n",
      "llm-caikit/artifacts/model-00003-of-00006.safetensors\n",
      "-----\n",
      "model-00004-of-00006.safetensors\n",
      "./Llama-2-7b-chat-hf-sharded-bf16-fine-tuned-caikit/artifacts/model-00004-of-00006.safetensors\n",
      "models\n",
      "llm-caikit/artifacts/model-00004-of-00006.safetensors\n",
      "-----\n",
      "model-00006-of-00006.safetensors\n",
      "./Llama-2-7b-chat-hf-sharded-bf16-fine-tuned-caikit/artifacts/model-00006-of-00006.safetensors\n",
      "models\n",
      "llm-caikit/artifacts/model-00006-of-00006.safetensors\n",
      "-----\n",
      "tokenizer.json\n",
      "./Llama-2-7b-chat-hf-sharded-bf16-fine-tuned-caikit/artifacts/tokenizer.json\n",
      "models\n",
      "llm-caikit/artifacts/tokenizer.json\n",
      "-----\n",
      "model-00005-of-00006.safetensors\n",
      "./Llama-2-7b-chat-hf-sharded-bf16-fine-tuned-caikit/artifacts/model-00005-of-00006.safetensors\n",
      "models\n",
      "llm-caikit/artifacts/model-00005-of-00006.safetensors\n",
      "-----\n",
      "model-00002-of-00006.safetensors\n",
      "./Llama-2-7b-chat-hf-sharded-bf16-fine-tuned-caikit/artifacts/model-00002-of-00006.safetensors\n",
      "models\n",
      "llm-caikit/artifacts/model-00002-of-00006.safetensors\n",
      "-----\n",
      "model-00001-of-00006.safetensors\n",
      "./Llama-2-7b-chat-hf-sharded-bf16-fine-tuned-caikit/artifacts/model-00001-of-00006.safetensors\n",
      "models\n",
      "llm-caikit/artifacts/model-00001-of-00006.safetensors\n",
      "-----\n",
      "generation_config.json\n",
      "./Llama-2-7b-chat-hf-sharded-bf16-fine-tuned-caikit/artifacts/generation_config.json\n",
      "models\n",
      "llm-caikit/artifacts/generation_config.json\n"
     ]
    }
   ],
   "source": [
    "target_subfolder=target_subfolder+\"artifacts/\"\n",
    "\n",
    "for filename in files:\n",
    "  print(\"-----\")\n",
    "  print(filename)\n",
    "  print(Direc+\"/\"+filename)\n",
    "  print(bucket_name)\n",
    "  print(target_subfolder+filename)\n",
    "  s3.upload_file(Direc+\"/\"+filename, bucket_name, target_subfolder+filename)"
   ]
  },
  {
   "cell_type": "code",
   "execution_count": 30,
   "id": "8b864097-9acf-4a39-b198-ea7b9aebe2bd",
   "metadata": {},
   "outputs": [
    {
     "name": "stdout",
     "output_type": "stream",
     "text": [
      "Done\n"
     ]
    }
   ],
   "source": [
    "print (\"Done\")"
   ]
  },
  {
   "cell_type": "code",
   "execution_count": null,
   "id": "002ae0ac-c125-4089-af82-f71db20db858",
   "metadata": {},
   "outputs": [],
   "source": []
  }
 ],
 "metadata": {
  "kernelspec": {
   "display_name": "Python 3.9",
   "language": "python",
   "name": "python3"
  },
  "language_info": {
   "codemirror_mode": {
    "name": "ipython",
    "version": 3
   },
   "file_extension": ".py",
   "mimetype": "text/x-python",
   "name": "python",
   "nbconvert_exporter": "python",
   "pygments_lexer": "ipython3",
   "version": "3.9.18"
  }
 },
 "nbformat": 4,
 "nbformat_minor": 5
}
